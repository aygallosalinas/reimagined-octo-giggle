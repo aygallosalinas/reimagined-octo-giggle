{
 "cells": [
  {
   "cell_type": "markdown",
   "metadata": {},
   "source": [
    "# IBM Data Science professional certificate @ coursera"
   ]
  },
  {
   "cell_type": "markdown",
   "metadata": {},
   "source": [
    "## Introduction\n",
    "\n",
    "In this python notebook I'll be completing the \"Final Assignment: Create and Share Your Jupyter Notebook\" which has the following requirements:\n",
    "1. Exercise 2 - Create a markdown cell with the title of the notebook. (1 pt)\n",
    "2. Exercise 3 - Create a markdown cell for an introduction. (1 pt)\n",
    "3. Exercise 4 - Create a markdown cell to list data science languages. (3 pts)\n",
    "4. Exercise 5 - Create a markdown cell to list data science libraries. (3 pts)\n",
    "5. Exercise 6 - Create a markdown cell with a table of Data Science tools. (3 pts)\n",
    "6. Exercise 7 - Create a markdown cell introducing arithmetic expression examples. (1 pt)\n",
    "7. Exercise 8 - Create a code cell to multiply and add numbers. (2 pts)\n",
    "8. Exercise 9 - Create a code cell to convert minutes to hours. (2 pts)\n",
    "9. Exercise 10 -Insert a markdown cell to list Objectives. (3 pts)\n",
    "10. Exercise 11 - Create a markdown cell to indicate the Author’s name. (2 pts)\n",
    "11. Exercise 12 - Share your notebook through GitHub (3 pts)\n",
    "12. Exercise 13 - Take a screenshot of the first page of the notebook. (1 pt)\n",
    "\n",
    "Personal notes: [I don't know what happened but the excercises starts from the 2nd one](https://imgur.com/a/KiBeesv)\n",
    "\n",
    "The main grading criteria will be:\n",
    "\n",
    "Is the notebook publicly viewable?\n",
    "\n",
    "Are there, or do there appear to be, at least 8 Markdown cells and 2 code cells?\n",
    "\n",
    "Are the criteria for each cell fulfilled, as described in the \"Guidelines for Submission\"?\n",
    "\n",
    "You will not be judged on: \n",
    "Your English language, including spelling or grammatical mistakes.\n",
    "\n"
   ]
  },
  {
   "cell_type": "markdown",
   "metadata": {},
   "source": [
    "---"
   ]
  },
  {
   "cell_type": "markdown",
   "metadata": {},
   "source": [
    "### Programming languages used in Data Science\n",
    "1. Python\n",
    "2. R\n",
    "3. SQL\n",
    "4. Julia\n",
    "5. Scala"
   ]
  },
  {
   "cell_type": "markdown",
   "metadata": {},
   "source": [
    "---"
   ]
  },
  {
   "cell_type": "markdown",
   "metadata": {},
   "source": [
    "### Data Science libraries\n",
    "1. NumPy\n",
    "2. Pandas\n",
    "3. Matplotlib\n",
    "4. scikit-learn\n",
    "5. TensorFlow\n",
    "6. PyTorch\n",
    "7. dplyr\n",
    "8. ggplot2\n",
    "9. caret\n",
    "10. tidyr"
   ]
  },
  {
   "cell_type": "markdown",
   "metadata": {},
   "source": [
    "---"
   ]
  },
  {
   "cell_type": "markdown",
   "metadata": {},
   "source": [
    "### Data Science tools\n",
    "|Tool name|Short description|\n",
    "|---|---|\n",
    "|Jupyter Notebook|Interactive development environment for creating and sharing code, visualizations, and text documents.|\n",
    "|RStudio|Integrated development environment (IDE) for R programming, facilitating coding, data manipulation, and visualization.|\n",
    "|Apache Hadoop|Open-source framework for distributed storage and processing of large datasets across computer clusters, commonly used for big data analysis.|\n",
    "|Apache Spark|Fast and distributed computing framework with modules for SQL, streaming, machine learning, and graph processing.|\n",
    "|Git|Version control system for managing code changes, facilitating collaboration and sharing of projects.|\n"
   ]
  },
  {
   "cell_type": "markdown",
   "metadata": {},
   "source": [
    "---"
   ]
  },
  {
   "cell_type": "markdown",
   "metadata": {},
   "source": [
    "### Arithmetic expressions examples\n",
    "Addition: The + operator is used for addition. For example, 2 + 3 evaluates to 5.\n",
    "\n",
    "Subtraction: The - operator is used for subtraction. For example, 5 - 3 evaluates to 2.\n",
    "\n",
    "Multiplication: The * operator is used for multiplication. For example, 4 * 5 evaluates to 20.\n",
    "\n",
    "Division: The / operator is used for division. For example, 10 / 2 evaluates to 5.\n",
    "\n",
    "Parentheses: Parentheses () can be used to group expressions and control the order of operations. For example, (2 + 3) * 4 evaluates to 20.\n"
   ]
  },
  {
   "cell_type": "markdown",
   "metadata": {},
   "source": [
    "---"
   ]
  },
  {
   "cell_type": "markdown",
   "metadata": {},
   "source": [
    "### Arithmetic operation in Python"
   ]
  },
  {
   "cell_type": "code",
   "execution_count": 4,
   "metadata": {},
   "outputs": [
    {
     "name": "stdout",
     "output_type": "stream",
     "text": [
      "12\n"
     ]
    }
   ],
   "source": [
    "first_number = 5\n",
    "second_number = 7\n",
    "\n",
    "resut = first_number + second_number\n",
    "print(resut)"
   ]
  },
  {
   "cell_type": "markdown",
   "metadata": {},
   "source": [
    "---"
   ]
  },
  {
   "cell_type": "markdown",
   "metadata": {},
   "source": [
    "### Minutes to Hour conversor in python"
   ]
  },
  {
   "cell_type": "code",
   "execution_count": 3,
   "metadata": {},
   "outputs": [
    {
     "name": "stdout",
     "output_type": "stream",
     "text": [
      "6.166666666666667\n"
     ]
    }
   ],
   "source": [
    "minutes = 370\n",
    "\n",
    "def minuter(minutes):\n",
    "    return minutes / 60\n",
    "\n",
    "print(minuter(minutes))"
   ]
  },
  {
   "cell_type": "markdown",
   "metadata": {},
   "source": [
    "---"
   ]
  },
  {
   "cell_type": "markdown",
   "metadata": {},
   "source": [
    "### Objectives\n",
    "1. Understand the concept of data science and its applications.\n",
    "2. Explore different programming languages commonly used in data science.\n",
    "3. Familiarize ourselves with popular data science libraries and tools.\n",
    "4. Practice creating and manipulating arithmetic expressions.\n",
    "5. Gain hands-on experience with performing multiplication and addition operations on numbers.\n",
    "6. Reinforce our understanding of markdown cells and their usage."
   ]
  },
  {
   "cell_type": "markdown",
   "metadata": {},
   "source": [
    "---"
   ]
  },
  {
   "cell_type": "markdown",
   "metadata": {},
   "source": [
    "Author: Ayrton Nehuen Gallo Salinas"
   ]
  }
 ],
 "metadata": {
  "kernelspec": {
   "display_name": "Python 3",
   "language": "python",
   "name": "python3"
  },
  "language_info": {
   "codemirror_mode": {
    "name": "ipython",
    "version": 3
   },
   "file_extension": ".py",
   "mimetype": "text/x-python",
   "name": "python",
   "nbconvert_exporter": "python",
   "pygments_lexer": "ipython3",
   "version": "3.12.3"
  }
 },
 "nbformat": 4,
 "nbformat_minor": 2
}
